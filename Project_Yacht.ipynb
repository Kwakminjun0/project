{
 "cells": [
  {
   "cell_type": "markdown",
   "id": "06fea748-4b57-4f04-a533-3d6d66245f9c",
   "metadata": {},
   "source": [
    "수학과 프로그래밍 기말고사 프로젝트 - 수학과 2019131031 곽민준"
   ]
  },
  {
   "cell_type": "raw",
   "id": "40681306-546b-49ec-bef6-48a1dc890311",
   "metadata": {
    "tags": []
   },
   "source": [
    "소재 : 야추\n",
    "\n",
    "예전부터 야추라는 주사위 게임을 흥미롭게 했던 기억이 있어 야추를 파이썬 코드로 구현해 보았다. 야추란 다섯 개의 주사위를 사용하여 조합을 만드는 주사위 게임이다. 게임은 아래와 같은 흐름으로 진행된다.\n",
    "\n",
    "1. 다섯 개의 주사위를 굴린다.\n",
    "2. 플레이어가 원하는 주사위를 선택하여 다시 굴릴 수 있다.\n",
    "3. 2번 과정을 한 번 더 반복한다.\n",
    "4. 최종 주사위 결과를 바탕으로 점수를 계산한다.\n",
    "\n",
    "먼저 야추 게임의 한 라운드를 실행하는 코드를 작성해 보았다."
   ]
  },
  {
   "cell_type": "code",
   "execution_count": 3,
   "id": "eb59ead2-9d09-4bc5-aa55-13a9939ddab1",
   "metadata": {},
   "outputs": [
    {
     "name": "stdout",
     "output_type": "stream",
     "text": [
      "첫 번째 굴림: [3, 1, 1, 6, 2]\n",
      "두 번째 굴림: [3, 6, 1, 5, 6]\n",
      "세 번째 굴림: [5, 5, 3, 5, 5]\n",
      "최종 주사위: [5, 5, 3, 5, 5]\n",
      "점수: 23\n"
     ]
    }
   ],
   "source": [
    "import random\n",
    "\n",
    "def roll_dice(num_dice):\n",
    "    \"\"\"주어진 개수의 주사위를 굴린다.\"\"\"\n",
    "    return [random.randint(1, 6) for _ in range(num_dice)]\n",
    "\n",
    "def select_dice_to_reroll(dice):\n",
    "    \"\"\"다시 굴릴 주사위를 선택한다. (예시: 모든 주사위를 다시 굴린다)\"\"\"\n",
    "    return [True] * len(dice)  # 모든 주사위를 다시 굴리는 예시\n",
    "\n",
    "def calculate_score(dice):\n",
    "    \"\"\"주사위 점수를 계산한다. (여기서는 간단히 모든 주사위의 합으로 예시)\"\"\"\n",
    "    return sum(dice)\n",
    "\n",
    "def play_yahtzee():\n",
    "    # 첫 번째 굴림\n",
    "    dice = roll_dice(5)\n",
    "    print(f\"첫 번째 굴림: {dice}\")\n",
    "    \n",
    "    # 두 번째 굴림 (선택적으로 주사위를 다시 굴린다)\n",
    "    reroll = select_dice_to_reroll(dice)\n",
    "    dice = [die if not reroll[i] else random.randint(1, 6) for i, die in enumerate(dice)]\n",
    "    print(f\"두 번째 굴림: {dice}\")\n",
    "    \n",
    "    # 세 번째 굴림 (선택적으로 주사위를 다시 굴린다)\n",
    "    reroll = select_dice_to_reroll(dice)\n",
    "    dice = [die if not reroll[i] else random.randint(1, 6) for i, die in enumerate(dice)]\n",
    "    print(f\"세 번째 굴림: {dice}\")\n",
    "    \n",
    "    print(f\"최종 주사위: {dice}\")\n",
    "\n",
    "    \n",
    "# 게임 실행\n",
    "play_yahtzee()"
   ]
  },
  {
   "cell_type": "raw",
   "id": "1e7ec39e-b43d-4017-978b-1e95a7225f81",
   "metadata": {},
   "source": [
    "가장 먼저 위 함수는 플레이어가 다시 굴릴 주사위를 선택하지 못하고 랜덤으로 선택하게 한다는 한계가 있다. 그 다음으로 플레이어가 다시 굴릴 주사위의 인덱스를 입력할 수 있도록 코드를 작성했다."
   ]
  },
  {
   "cell_type": "code",
   "execution_count": 17,
   "id": "25ec6775-f453-4381-8c4a-1e8cff6fe5ff",
   "metadata": {},
   "outputs": [
    {
     "name": "stdout",
     "output_type": "stream",
     "text": [
      "첫 번째 굴림: [1, 3, 1, 1, 2]\n",
      "현재 주사위: [1, 3, 1, 1, 2]\n"
     ]
    },
    {
     "name": "stdin",
     "output_type": "stream",
     "text": [
      "다시 굴릴 주사위의 인덱스를 쉼표로 구분하여 입력하세요 (없다면 그냥 Enter):  \n"
     ]
    },
    {
     "name": "stdout",
     "output_type": "stream",
     "text": [
      "두 번째 굴림: [1, 3, 1, 1, 2]\n",
      "현재 주사위: [1, 3, 1, 1, 2]\n"
     ]
    },
    {
     "name": "stdin",
     "output_type": "stream",
     "text": [
      "다시 굴릴 주사위의 인덱스를 쉼표로 구분하여 입력하세요 (없다면 그냥 Enter):  \n"
     ]
    },
    {
     "name": "stdout",
     "output_type": "stream",
     "text": [
      "세 번째 굴림: [1, 3, 1, 1, 2]\n",
      "최종 주사위: [1, 3, 1, 1, 2]\n"
     ]
    }
   ],
   "source": [
    "import random\n",
    "\n",
    "def roll_dice(num_dice):\n",
    "    \"\"\"주어진 개수의 주사위를 굴린다.\"\"\"\n",
    "    return [random.randint(1, 6) for _ in range(num_dice)]\n",
    "\n",
    "def select_dice_to_reroll(dice):\n",
    "    \"\"\"다시 굴릴 주사위를 선택한다.\"\"\"\n",
    "    print(f\"현재 주사위: {dice}\")\n",
    "    reroll_input = input(\"다시 굴릴 주사위의 인덱스를 쉼표로 구분하여 입력하세요 (없다면 그냥 Enter): \")\n",
    "    if reroll_input.strip() == \"\":\n",
    "        return [False] * len(dice)  # 모든 주사위를 그대로 유지\n",
    "    reroll_indices = [int(index) for index in reroll_input.split(',')]\n",
    "    reroll = [i in reroll_indices for i in range(len(dice))]\n",
    "    return reroll\n",
    "\n",
    "def calculate_score(dice):\n",
    "    \"\"\"주사위 점수를 계산한다. (여기서는 간단히 모든 주사위의 합으로 예시)\"\"\"\n",
    "    return sum(dice)\n",
    "\n",
    "def play_yahtzee():\n",
    "    # 첫 번째 굴림\n",
    "    dice = roll_dice(5)\n",
    "    print(f\"첫 번째 굴림: {dice}\")\n",
    "    \n",
    "    # 두 번째 굴림 (선택적으로 주사위를 다시 굴린다)\n",
    "    reroll = select_dice_to_reroll(dice)\n",
    "    dice = [die if not reroll[i] else random.randint(1, 6) for i, die in enumerate(dice)]\n",
    "    print(f\"두 번째 굴림: {dice}\")\n",
    "    \n",
    "    # 세 번째 굴림 (선택적으로 주사위를 다시 굴린다)\n",
    "    reroll = select_dice_to_reroll(dice)\n",
    "    dice = [die if not reroll[i] else random.randint(1, 6) for i, die in enumerate(dice)]\n",
    "    print(f\"세 번째 굴림: {dice}\")\n",
    "    \n",
    "    print(f\"최종 주사위: {dice}\")\n",
    "    \n",
    "\n",
    "# 게임 실행\n",
    "play_yahtzee()"
   ]
  },
  {
   "cell_type": "raw",
   "id": "506d52f8-cb04-4825-bf95-34c51da7ed58",
   "metadata": {},
   "source": [
    "이 함수를 이용해 주사위를 굴려 원하는 주사위를 선택할 수 있다. 한편, 주사위 조합으로 얻을 수 있는 다양한 점수들이 있다.\n",
    "\n",
    "Ones : 1이 나온 주사위 눈의 총합\n",
    "Twos : 2가 나온 주사위 눈의 총합\n",
    "Threes : 3이 나온 주사위 눈의 총합\n",
    "Fours : 4가 나온 주사위 눈의 총합\n",
    "Fives : 5가 나온 주사위 눈의 총합\n",
    "Sixes : 6이 나온 주사위 눈의 총합\n",
    "Four of a Kind : 동일한 주사위 눈이 4개 이상일 때, 동일한 주사위 눈 4개의 총합\n",
    "Full House : 동일한 주사위 눈 한 종류가 3개, 다른 한 종류가 2개일 때 주사위 눈 5개의 총합\n",
    "Small Straight : 주사위 눈이 4개가 연속해서 나왔을 때, +15점\n",
    "Large Straight : 주사위 눈이 5개가 연속해서 나왔을 때, +30점\n",
    "Yacht : 동일한 주사위 눈이 5개일 때, 눈에 관계없이 +50점\n",
    "Choice : 주사위 눈 5개의 총합\n",
    "\n",
    "이를 쉽게 계산할 수 있는 코드를 작성해 보았다."
   ]
  },
  {
   "cell_type": "code",
   "execution_count": 12,
   "id": "86493d92-c49d-4d96-b755-7ec9ac450473",
   "metadata": {},
   "outputs": [
    {
     "name": "stdout",
     "output_type": "stream",
     "text": [
      "Ones: 1\n",
      "Twos: 2\n",
      "Threes: 3\n",
      "Fours: 4\n",
      "Fives: 5\n",
      "Sixes: 0\n",
      "Four of a Kind: 0\n",
      "Full House: 0\n",
      "Small Straight: 15\n",
      "Large Straight: 30\n",
      "Yacht: 0\n",
      "Choice: 15\n"
     ]
    }
   ],
   "source": [
    "from collections import Counter\n",
    "\n",
    "def score_ones(dice):\n",
    "    return sum(d for d in dice if d == 1)\n",
    "\n",
    "def score_twos(dice):\n",
    "    return sum(d for d in dice if d == 2)\n",
    "\n",
    "def score_threes(dice):\n",
    "    return sum(d for d in dice if d == 3)\n",
    "\n",
    "def score_fours(dice):\n",
    "    return sum(d for d in dice if d == 4)\n",
    "\n",
    "def score_fives(dice):\n",
    "    return sum(d for d in dice if d == 5)\n",
    "\n",
    "def score_sixes(dice):\n",
    "    return sum(d for d in dice if d == 6)\n",
    "\n",
    "def score_four_of_a_kind(dice):\n",
    "    counts = Counter(dice)\n",
    "    for num, count in counts.items():\n",
    "        if count >= 4:\n",
    "            return num * 4\n",
    "    return 0\n",
    "\n",
    "def score_full_house(dice):\n",
    "    counts = Counter(dice)\n",
    "    values = list(counts.values())\n",
    "    if sorted(values) == [2, 3]:\n",
    "        return sum(dice)\n",
    "    return 0\n",
    "\n",
    "def score_small_straight(dice):\n",
    "    if set(dice) in [set([1, 2, 3, 4, 5]), set([2, 3, 4, 5, 6])]:\n",
    "        return 15\n",
    "    return 0\n",
    "\n",
    "def score_large_straight(dice):\n",
    "    if set(dice) == set([1, 2, 3, 4, 5]) or set(dice) == set([2, 3, 4, 5, 6]):\n",
    "        return 30\n",
    "    return 0\n",
    "\n",
    "def score_yacht(dice):\n",
    "    if len(set(dice)) == 1:\n",
    "        return 50\n",
    "    return 0\n",
    "\n",
    "def score_choice(dice):\n",
    "    return sum(dice)\n",
    "\n",
    "# 예시\n",
    "dice = [1,2,3,4,5] \n",
    "\n",
    "print(\"Ones:\", score_ones(dice))\n",
    "print(\"Twos:\", score_twos(dice))\n",
    "print(\"Threes:\", score_threes(dice))\n",
    "print(\"Fours:\", score_fours(dice))\n",
    "print(\"Fives:\", score_fives(dice))\n",
    "print(\"Sixes:\", score_sixes(dice))\n",
    "print(\"Four of a Kind:\", score_four_of_a_kind(dice))\n",
    "print(\"Full House:\", score_full_house(dice))\n",
    "print(\"Small Straight:\", score_small_straight(dice))\n",
    "print(\"Large Straight:\", score_large_straight(dice))\n",
    "print(\"Yacht:\", score_yacht(dice))\n",
    "print(\"Choice:\", score_choice(dice))"
   ]
  },
  {
   "cell_type": "raw",
   "id": "7511ffd6-bc79-4ef5-afb9-32ea1c613284",
   "metadata": {},
   "source": [
    "최종적으로 주사위를 3번 굴려서 선택하는 함수와 점수를 계산하는 함수를 합쳐서 한 번 굴렸을 때 얻을 수 있는 점수를 제시하는 함수를 만들었다."
   ]
  },
  {
   "cell_type": "code",
   "execution_count": 18,
   "id": "d0feaa31-5ee3-4759-b63f-19c4f92395f8",
   "metadata": {},
   "outputs": [
    {
     "name": "stdout",
     "output_type": "stream",
     "text": [
      "첫 번째 굴림: [5, 4, 6, 1, 4]\n",
      "현재 주사위: [5, 4, 6, 1, 4]\n"
     ]
    },
    {
     "name": "stdin",
     "output_type": "stream",
     "text": [
      "다시 굴릴 주사위의 인덱스를 쉼표로 구분하여 입력하세요 (없다면 그냥 Enter):  0, 2, 3\n"
     ]
    },
    {
     "name": "stdout",
     "output_type": "stream",
     "text": [
      "두 번째 굴림: [4, 4, 6, 1, 4]\n",
      "현재 주사위: [4, 4, 6, 1, 4]\n"
     ]
    },
    {
     "name": "stdin",
     "output_type": "stream",
     "text": [
      "다시 굴릴 주사위의 인덱스를 쉼표로 구분하여 입력하세요 (없다면 그냥 Enter):  2, 3\n"
     ]
    },
    {
     "name": "stdout",
     "output_type": "stream",
     "text": [
      "세 번째 굴림: [4, 4, 5, 2, 4]\n",
      "최종 주사위: [4, 4, 5, 2, 4]\n",
      "Ones: 0\n",
      "Twos: 2\n",
      "Threes: 0\n",
      "Fours: 12\n",
      "Fives: 5\n",
      "Sixes: 0\n",
      "Four of a Kind: 0\n",
      "Full House: 0\n",
      "Small Straight: 0\n",
      "Large Straight: 0\n",
      "Yacht: 0\n",
      "Choice: 19\n"
     ]
    }
   ],
   "source": [
    "import random\n",
    "\n",
    "def roll_dice(num_dice):\n",
    "    \"\"\"주어진 개수의 주사위를 굴린다.\"\"\"\n",
    "    return [random.randint(1, 6) for _ in range(num_dice)]\n",
    "\n",
    "def select_dice_to_reroll(dice):\n",
    "    \"\"\"다시 굴릴 주사위를 선택한다.\"\"\"\n",
    "    print(f\"현재 주사위: {dice}\")\n",
    "    reroll_input = input(\"다시 굴릴 주사위의 인덱스를 쉼표로 구분하여 입력하세요 (없다면 그냥 Enter): \")\n",
    "    if reroll_input.strip() == \"\":\n",
    "        return [False] * len(dice)  # 모든 주사위를 그대로 유지\n",
    "    reroll_indices = [int(index) for index in reroll_input.split(',')]\n",
    "    reroll = [i in reroll_indices for i in range(len(dice))]\n",
    "    return reroll\n",
    "\n",
    "def calculate_score(dice):\n",
    "    \"\"\"주사위 점수를 계산한다. (여기서는 간단히 모든 주사위의 합으로 예시)\"\"\"\n",
    "    return sum(dice)\n",
    "\n",
    "def play_yahtzee():\n",
    "    # 첫 번째 굴림\n",
    "    dice = roll_dice(5)\n",
    "    print(f\"첫 번째 굴림: {dice}\")\n",
    "    \n",
    "    # 두 번째 굴림 (선택적으로 주사위를 다시 굴린다)\n",
    "    reroll = select_dice_to_reroll(dice)\n",
    "    dice = [die if not reroll[i] else random.randint(1, 6) for i, die in enumerate(dice)]\n",
    "    print(f\"두 번째 굴림: {dice}\")\n",
    "    \n",
    "    # 세 번째 굴림 (선택적으로 주사위를 다시 굴린다)\n",
    "    reroll = select_dice_to_reroll(dice)\n",
    "    dice = [die if not reroll[i] else random.randint(1, 6) for i, die in enumerate(dice)]\n",
    "    print(f\"세 번째 굴림: {dice}\")\n",
    "    \n",
    "    # 점수 계산\n",
    "    print(f\"최종 주사위: {dice}\")\n",
    "    print(\"Ones:\", score_ones(dice))\n",
    "    print(\"Twos:\", score_twos(dice))\n",
    "    print(\"Threes:\", score_threes(dice))\n",
    "    print(\"Fours:\", score_fours(dice))\n",
    "    print(\"Fives:\", score_fives(dice))\n",
    "    print(\"Sixes:\", score_sixes(dice))\n",
    "    print(\"Four of a Kind:\", score_four_of_a_kind(dice))\n",
    "    print(\"Full House:\", score_full_house(dice))\n",
    "    print(\"Small Straight:\", score_small_straight(dice))\n",
    "    print(\"Large Straight:\", score_large_straight(dice))\n",
    "    print(\"Yacht:\", score_yacht(dice))\n",
    "    print(\"Choice:\", score_choice(dice))\n",
    "    \n",
    "# 게임 실행\n",
    "play_yahtzee()"
   ]
  },
  {
   "cell_type": "raw",
   "id": "e8bd4656-7434-4607-a3f4-8fd8715691d8",
   "metadata": {},
   "source": [
    "이렇게 점수를 계산하는 것까지 코드로 나타내 보았다. 단지 게임으로만 알고 했었던 것들인데 어렵지 않은 파이썬 코드로 야추 게임을 구현할 수 있다는 것이 흥미로웠다."
   ]
  }
 ],
 "metadata": {
  "kernelspec": {
   "display_name": "Python 3 (ipykernel)",
   "language": "python",
   "name": "python3"
  },
  "language_info": {
   "codemirror_mode": {
    "name": "ipython",
    "version": 3
   },
   "file_extension": ".py",
   "mimetype": "text/x-python",
   "name": "python",
   "nbconvert_exporter": "python",
   "pygments_lexer": "ipython3",
   "version": "3.9.12"
  }
 },
 "nbformat": 4,
 "nbformat_minor": 5
}
